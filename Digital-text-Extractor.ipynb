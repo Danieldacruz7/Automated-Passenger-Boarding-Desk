{
 "cells": [
  {
   "cell_type": "code",
   "execution_count": 1,
   "metadata": {},
   "outputs": [],
   "source": [
    "#!pip install azure-ai-formrecognizer\n",
    "#!pip install azure-core-credentials\n",
    "#import sys\n",
    "#sys.path.append(\"/opt/conda/envs/ai-azure-c1/lib/python3.8/site-packages\")"
   ]
  },
  {
   "cell_type": "code",
   "execution_count": 2,
   "metadata": {},
   "outputs": [],
   "source": [
    "from azure.core.credentials import AzureKeyCredential\n",
    "from azure.ai.formrecognizer import FormRecognizerClient\n",
    "from pathlib import Path\n",
    "from dotenv import load_dotenv\n",
    "import os"
   ]
  },
  {
   "cell_type": "code",
   "execution_count": 3,
   "metadata": {},
   "outputs": [],
   "source": [
    "from dotenv import load_dotenv\n",
    "import os\n",
    "load_dotenv()\n",
    "FORM_RECOGNIZER_ENDPOINT = os.getenv(\"AZURE_FORM_RECOGNIZER_ENDPOINT\")\n",
    "FORM_RECOGNIZER_KEY =os.getenv(\"AZURE_FORM_RECOGNIZER_KEY\")"
   ]
  },
  {
   "cell_type": "code",
   "execution_count": 4,
   "metadata": {},
   "outputs": [],
   "source": [
    "form_recognizer_client = FormRecognizerClient(endpoint=FORM_RECOGNIZER_ENDPOINT, credential=AzureKeyCredential(FORM_RECOGNIZER_KEY))"
   ]
  },
  {
   "cell_type": "markdown",
   "metadata": {},
   "source": [
    "### Single ID Document Text Extraction "
   ]
  },
  {
   "cell_type": "code",
   "execution_count": 5,
   "metadata": {},
   "outputs": [],
   "source": [
    "content_url = \"https://raw.githubusercontent.com/udacity/cd0461-building-computer-vision-solutions-with-azure-project-starter/master/starter/digital_id_template/ca-dl-avkash-chauhan.png\"\n"
   ]
  },
  {
   "cell_type": "code",
   "execution_count": 6,
   "metadata": {},
   "outputs": [],
   "source": [
    "id_from_url = form_recognizer_client.begin_recognize_identity_documents_from_url(content_url)"
   ]
  },
  {
   "cell_type": "code",
   "execution_count": 7,
   "metadata": {},
   "outputs": [
    {
     "data": {
      "text/plain": [
       "[RecognizedForm(form_type=prebuilt:idDocument:driverLicense, fields={'Address': FormField(value_type=string, label_data=None, value_data=FieldData(page_number=1, text=1234 Circle Ave, Apt 123 San Mateo, CA, 94401, bounding_box=[Point(x=180.0, y=149.0), Point(x=328.0, y=149.0), Point(x=328.0, y=182.0), Point(x=180.0, y=182.0)], field_elements=None), name=Address, value='1234 Circle Ave, Apt 123 San Mateo, CA, 94401', confidence=0.585), 'CountryRegion': FormField(value_type=countryRegion, label_data=None, value_data=None, name=CountryRegion, value='USA', confidence=0.99), 'DateOfBirth': FormField(value_type=date, label_data=None, value_data=FieldData(page_number=1, text=01/01/1990, bounding_box=[Point(x=208.0, y=182.0), Point(x=285.0, y=181.0), Point(x=285.0, y=196.0), Point(x=208.0, y=196.0)], field_elements=None), name=DateOfBirth, value=datetime.date(1990, 1, 1), confidence=0.995), 'DateOfExpiration': FormField(value_type=date, label_data=None, value_data=FieldData(page_number=1, text=01/01/2025, bounding_box]"
      ]
     },
     "execution_count": 7,
     "metadata": {},
     "output_type": "execute_result"
    }
   ],
   "source": [
    "id_info = id_from_url.result()\n",
    "id_info "
   ]
  },
  {
   "cell_type": "markdown",
   "metadata": {},
   "source": [
    "### Multiple ID Text Extraction"
   ]
  },
  {
   "cell_type": "markdown",
   "metadata": {},
   "source": []
  },
  {
   "cell_type": "markdown",
   "metadata": {},
   "source": [
    "### Custom Form ID Text Extraction"
   ]
  },
  {
   "cell_type": "code",
   "execution_count": null,
   "metadata": {},
   "outputs": [],
   "source": [
    "import os\n",
    "from azure.core.exceptions import ResourceNotFoundError\n",
    "from azure.ai.formrecognizer import FormRecognizerClient\n",
    "from azure.ai.formrecognizer import FormTrainingClient\n",
    "from azure.core.credentials import AzureKeyCredential"
   ]
  },
  {
   "cell_type": "code",
   "execution_count": null,
   "metadata": {},
   "outputs": [],
   "source": [
    "CONFIG = {\n",
    "    'SUBSCRIPTION_KEY': os.getenv(\"SUBSCRIPTION_KEY\"),\n",
    "    'LOCATION': 'trial',\n",
    "    'ACCOUNT_ID': os.getenv(\"ACCOUNT_ID\"), \n",
    "    'FACIAL_RECOGNITION_ENDPOINT': os.getenv('AZURE_FACIAL_RECOGNIZER_ENDPOINT'), \n",
    "    'FACIAL_RECOGNITION_KEY': os.getenv('AZURE_FACIAL_RECOGNIZER_KEY'), \n",
    "    'FORM_RECOGNITION_ENDPOINT': os.getenv('AZURE_FORM_RECOGNIZER_ENDPOINT'), \n",
    "    'FORM_RECOGNITION_KEY': os.getenv('AZURE_FORM_RECOGNIZER_KEY')\n",
    "}"
   ]
  },
  {
   "cell_type": "code",
   "execution_count": null,
   "metadata": {},
   "outputs": [],
   "source": [
    "form_training_client = FormTrainingClient(endpoint=CONFIG[''], credential=AzureKeyCredential(key))"
   ]
  },
  {
   "cell_type": "code",
   "execution_count": null,
   "metadata": {},
   "outputs": [],
   "source": [
    "saved_model_list = form_training_client.list_custom_models()"
   ]
  },
  {
   "cell_type": "code",
   "execution_count": null,
   "metadata": {},
   "outputs": [],
   "source": [
    "training_process = form_training_client.begin_training(trainingDataUrl, use_training_labels=True)\n",
    "custom_model = training_process.result()"
   ]
  }
 ],
 "metadata": {
  "kernelspec": {
   "display_name": "Python 3.9.3 64-bit",
   "language": "python",
   "name": "python3"
  },
  "language_info": {
   "codemirror_mode": {
    "name": "ipython",
    "version": 3
   },
   "file_extension": ".py",
   "mimetype": "text/x-python",
   "name": "python",
   "nbconvert_exporter": "python",
   "pygments_lexer": "ipython3",
   "version": "3.9.3"
  },
  "orig_nbformat": 4,
  "vscode": {
   "interpreter": {
    "hash": "655ead04705df25979b098d70d07560a40ffb3d6c4aa160f4c4d023dee151a17"
   }
  }
 },
 "nbformat": 4,
 "nbformat_minor": 2
}
